{
 "cells": [
  {
   "cell_type": "markdown",
   "metadata": {},
   "source": [
    "# Wealth Model 5\n",
    "## Here we provide the third tax model (a wealth tax) and look at the distribution of income in different tax models"
   ]
  },
  {
   "cell_type": "markdown",
   "metadata": {},
   "source": [
    "We shall introduce a population of N agents, each with equal share of wealth of the nation (\\$1,000).\n",
    "\n",
    "They encounter each other randomly and exchange a random amount of their wealth in each exchange, with the direction being random. "
   ]
  },
  {
   "cell_type": "markdown",
   "metadata": {},
   "source": [
    "Then we tax the \"wealth\" of agents at regular intervals (to be fixed) and redistribute this flat tax among all agents equally. "
   ]
  },
  {
   "cell_type": "markdown",
   "metadata": {},
   "source": [
    "## Preparation"
   ]
  },
  {
   "cell_type": "code",
   "execution_count": null,
   "metadata": {},
   "outputs": [],
   "source": [
    "using Distributions\n",
    "using Plots"
   ]
  },
  {
   "cell_type": "markdown",
   "metadata": {},
   "source": [
    "### Function Definitions"
   ]
  },
  {
   "cell_type": "code",
   "execution_count": null,
   "metadata": {},
   "outputs": [],
   "source": [
    "function AgentsInteractSymmetrical(A::Vector)\n",
    "    x=rand(big.(1:length(A)),2)\n",
    "    diff=A[x[1]]+A[x[2]]\n",
    "    y=rand(2)\n",
    "    if (y[1] < .5) \n",
    "        if (A[x[2]] >= Int(round(y[2]*diff)))\n",
    "            A[x[2]]-=Int(round(y[2]*diff))\n",
    "            A[x[1]]+=Int(round(y[2]*diff))\n",
    "        else\n",
    "            return\n",
    "        end\n",
    "    else\n",
    "        if (A[x[1]] >= Int(round(y[2]*diff)))\n",
    "            A[x[1]]-=Int(round(y[2]*diff))\n",
    "            A[x[2]]+=Int(round(y[2]*diff))\n",
    "        else\n",
    "            return\n",
    "        end\n",
    "   end\n",
    "end"
   ]
  },
  {
   "cell_type": "code",
   "execution_count": null,
   "metadata": {},
   "outputs": [],
   "source": [
    "function Gini(A::Vector)::Float64\n",
    "    gi=0.\n",
    "    for i=1:length(A)\n",
    "        for j=i+1:length(A)\n",
    "            gi+=abs(A[i]-A[j])\n",
    "        end\n",
    "    end\n",
    "    g=gi/(length(A)*sum(A))\n",
    "    return g\n",
    "end"
   ]
  },
  {
   "cell_type": "code",
   "execution_count": null,
   "metadata": {},
   "outputs": [],
   "source": [
    "function TaxAgentsWealthFlex(A::Vector,tax,factor::Float64)\n",
    "    B=zeros(Int64,length(A))\n",
    "    sv=sum(A)\n",
    "    for i=1:length(A)\n",
    "        if (A[i] > Int(factor*1000))  # factor * average\n",
    "            A[i]-=Int(round(A[i]*tax))   # This is a wealth tax!!\n",
    "            B[i]=1\n",
    "        end\n",
    "    end\n",
    "    sn=sum(A)\n",
    "    total=sv-sn\n",
    "    if (total == 0)\n",
    "        return\n",
    "    else\n",
    "#        print(\"\\n total \",total,\" sv \",sv,\" sn \",sn)\n",
    "    end\n",
    "    for i=1:length(A)\n",
    "        if (B[i] == 0)\n",
    "            if (sv > 1000000)    #   W*N\n",
    "                A[i]+=Int(floor(total/(length(A)-sum(B))))\n",
    "            else\n",
    "                A[i]+=Int(round(total/(length(A)-sum(B)))) \n",
    "            end\n",
    "        end\n",
    "    end\n",
    "end"
   ]
  },
  {
   "cell_type": "code",
   "execution_count": null,
   "metadata": {},
   "outputs": [],
   "source": [
    "function WealthTopXPerc(A::Vector,x::Float64)::Float64 \n",
    "    s=zeros(Int64,length(A))\n",
    "    s=sort(A)\n",
    "    indmin=Int(round(x*length(A)))\n",
    "    w=0\n",
    "    for i=length(A)-indmin:length(A)\n",
    "        w+=s[i]\n",
    "    end\n",
    "    wf=w*100.0/sum(A)   # in percent of total\n",
    "    return wf\n",
    "end"
   ]
  },
  {
   "cell_type": "code",
   "execution_count": null,
   "metadata": {},
   "outputs": [],
   "source": [
    "function VectorToDistr(A::Vector,k::Int)::Vector\n",
    "    d=zeros(Int64,k)\n",
    "    b=maximum(A)\n",
    "    for i=1:length(A)\n",
    "        for j=1:k\n",
    "            if (A[i] >= (j-1)*b/k)\n",
    "               if (A[i] <= j*b/k) \n",
    "                  d[j]=d[j]+1\n",
    "               end\n",
    "            end\n",
    "        end\n",
    "    end\n",
    "    return d\n",
    "end"
   ]
  },
  {
   "cell_type": "code",
   "execution_count": null,
   "metadata": {},
   "outputs": [],
   "source": [
    "function VectorToDistrModified(A::Vector,k::Int)::Vector\n",
    "    d=zeros(Int64,k)\n",
    "    b=maximum(A)\n",
    "    c=minimum(A)\n",
    "    for i=1:length(A)\n",
    "        for j=1:k\n",
    "            if (A[i] >= c+(j-1)*(b-c)/k)\n",
    "               if (A[i] <= c+j*(b-c)/k) \n",
    "                  d[j]=d[j]+1\n",
    "               end\n",
    "            end\n",
    "        end\n",
    "    end\n",
    "    return d\n",
    "end"
   ]
  },
  {
   "cell_type": "code",
   "execution_count": null,
   "metadata": {},
   "outputs": [],
   "source": [
    "function VectorToDistr_0(A::Vector,k::Int)::Vector\n",
    "    d=zeros(Int64,k)\n",
    "    d[1]=length(A)\n",
    "    b=maximum(A)\n",
    "    for i=1:length(A)\n",
    "        for j=1:k\n",
    "            if (A[i] >= (j-1)*b/k)\n",
    "               if (A[i] <= j*b/k) \n",
    "                  d[j]=d[j]+1\n",
    "                  d[1]-=1\n",
    "               end\n",
    "            end\n",
    "        end\n",
    "    end\n",
    "    return d\n",
    "end"
   ]
  },
  {
   "cell_type": "code",
   "execution_count": null,
   "metadata": {},
   "outputs": [],
   "source": [
    "function AgentsInteractAmount(A::Vector)\n",
    "    x=rand(big.(1:length(A)),2)\n",
    "    if (A[x[1]] > A[x[2]])\n",
    "        diff=A[x[2]]\n",
    "    else\n",
    "        diff=A[x[1]]\n",
    "    end\n",
    "#    print(\"\\n\",diff)\n",
    "    y=rand(2)\n",
    "    if (y[1] < .5) \n",
    "        A[x[1]]+=Int(round(y[2]*diff))\n",
    "        A[x[2]]-=Int(round(y[2]*diff))\n",
    "    else\n",
    "        A[x[1]]-=Int(round(y[2]*diff))\n",
    "        A[x[2]]+=Int(round(y[2]*diff))\n",
    "   end\n",
    "end"
   ]
  },
  {
   "cell_type": "markdown",
   "metadata": {},
   "source": [
    "This next function was erroneously thought to be an income tax. It is a wealth tax and will be studied in another notebook."
   ]
  },
  {
   "cell_type": "code",
   "execution_count": null,
   "metadata": {},
   "outputs": [],
   "source": [
    "function TaxRate(A,B::Vector)::Vector\n",
    "    R=zeros(Float64,length(A))\n",
    "    for i=1:length(A)\n",
    "        R[i]=(B[i]-A[i])/B[i]\n",
    "    end\n",
    "    return R\n",
    "end"
   ]
  },
  {
   "cell_type": "code",
   "execution_count": null,
   "metadata": {},
   "outputs": [],
   "source": [
    "function TaxAgentsWealth(A::Vector,tax::Float64)\n",
    "    sv=sum(A)\n",
    "    for i=1:length(A)\n",
    "        A[i]-=Int(round(A[i]*tax))   # This is a wealth tax!!\n",
    "    end\n",
    "    sn=sum(A)\n",
    "    total=(sv-sn)*1.0     #  1.002  has a growth effect on the economy - perhaps the integer/real issue?     \n",
    "    for i=1:length(A)\n",
    "        A[i]+=Int(round(total/length(A)))\n",
    "    end\n",
    "end"
   ]
  },
  {
   "cell_type": "markdown",
   "metadata": {},
   "source": [
    "Here is an income tax which is distributed to the best of possibility back to all agents. It is currently a flat tax of a certain percentage. Losses are not allowed to be taken into account."
   ]
  },
  {
   "cell_type": "code",
   "execution_count": null,
   "metadata": {},
   "outputs": [],
   "source": [
    "function TaxAgentsIncome(A::Vector,B::Vector,tax::Float64)\n",
    "    sv=sum(A)\n",
    "    taxcount=0\n",
    "    for i=1:length(A)\n",
    "        earn=A[i]-B[i]\n",
    "        t=0\n",
    "        if (earn > 0)\n",
    "            t=Int(round(earn*tax))   # Only positive income is taxed\n",
    "            taxcount+=1\n",
    "        else\n",
    "            t=0\n",
    "        end\n",
    "        A[i]-=t   \n",
    "    end\n",
    "    sn=sum(A)\n",
    "    total=sv-sn\n",
    "#    print(\"\\n sv \",sv,\" sn \",sn,\" total \",total,\" to distr to each\", floor(total/length(A)))\n",
    "#    print(\"\\n real vs int values \", total/length(A),\" \",Int(round(total/length(A))))\n",
    "    print(\"\\n Positive Taxation on n agents: \",taxcount)\n",
    "    for i=1:length(A)\n",
    "        if (mod(i,2) == 0)\n",
    "            A[i]+=Int(floor(total/length(A)))\n",
    "        else\n",
    "            A[i]+=Int(ceil(total/length(A)))\n",
    "        end\n",
    "    end\n",
    "end"
   ]
  },
  {
   "cell_type": "markdown",
   "metadata": {},
   "source": [
    "### Initialization"
   ]
  },
  {
   "cell_type": "code",
   "execution_count": null,
   "metadata": {},
   "outputs": [],
   "source": [
    "using Random \n",
    "Random.seed!(1);\n",
    "N=1000  # Number of Agents\n",
    "W=1000   # Starting share of wealth for all\n",
    "T=100000  # Number of iterations\n",
    "K=10  # Number of bins for the wealth distribution\n",
    "tax=0.3   # Percentage of flat income tax (30 (it), 60 (sit), 5 (wit))\n",
    "taxperiod=100   # Every taxperiod iterations, taxes are due and redistributed\n",
    "R=[1,1000,10000,100000]    # Reporting times T=...\n",
    "b=W/K\n",
    "print(\"Number of bins for distribution: \",K,\" bin size \",b)\n",
    "A = fill(W,N);\n",
    "A_old = fill(W,N);\n",
    "B = fill(W,N);\n",
    "Income = fill(0,N);\n",
    "Rate = fill(0,N);\n",
    "O = fill(0,T);\n",
    "M = fill(0.0,T);\n",
    "I = fill(0,T);\n",
    "wealth = fill(0.0,T,3)\n",
    "D = fill(0,K);\n",
    "D_Income = fill(0,K);\n",
    "g = fill(0.0,T,3);\n",
    "D=VectorToDistr(A,K);"
   ]
  },
  {
   "cell_type": "markdown",
   "metadata": {},
   "source": [
    "### Start Iterations with Regular Wealth Tax of 30%"
   ]
  },
  {
   "cell_type": "code",
   "execution_count": null,
   "metadata": {},
   "outputs": [],
   "source": [
    "ic=1\n",
    "D_label=\"t=\" * string(R[ic])\n",
    "display(bar(D, func=cdf, alpha=0.3, legend=:topleft, label = D_label, xlabel=\"Income Bin\", ylabel=\"Number of Agents\" , xticks=1:K))\n",
    "#\n",
    "ic=2    # This is the first report after the initial distribution\n",
    "for i=1:T\n",
    "    AgentsInteractSymmetrical(A)\n",
    "    I[i]=i\n",
    "    O[i]=maximum(A)\n",
    "    M[i]=median(A)\n",
    "    wealth[i,1]=100.0-WealthTopXPerc(A,.5)\n",
    "    wealth[i,2]=WealthTopXPerc(A,.1)\n",
    "    wealth[i,3]=WealthTopXPerc(A,.01)    \n",
    "    if (mod(i,taxperiod) == 0)\n",
    "        TaxAgentsWealth(A,tax)\n",
    "        Rate=TaxRate(A,B)*100.\n",
    "        for j=1:N\n",
    "            B[j]=A[j]\n",
    "        end\n",
    "    end\n",
    "    g[i,1]=Gini(A)\n",
    "    if (mod(i,N) == 0)\n",
    "        for j=1:N\n",
    "            Income[j]=A[j]-A_old[j]\n",
    "            A_old[j]=A[j]\n",
    "        end\n",
    "    end\n",
    "    if (i == R[ic])\n",
    "       D=VectorToDistr(A,K)\n",
    "       D_Income=VectorToDistrModified(Income,K)\n",
    "       print(\"\\n D_Income: \",D_Income,\" Iteration \",i, \"  Min-Income \",minimum(Income))\n",
    "       D_label=\"t=\" * string(R[ic]) * \"     Regular Wealth Tax Regime\"\n",
    "       Di_label=\"t=\" * string(R[ic]) * \" Income in Regular Wealth Tax Regime\"\n",
    "       if (i >= 1000)\n",
    "          display(bar(D, func=cdf, alpha=0.3, legend=:topright, label = D_label, xlabel=\"Income Bin\", ylabel=\"Number of Agents\" , xticks=1:K))\n",
    "          display(bar(D_Income, func=cdf, alpha=0.3, legend=:topright, label = Di_label, xlabel=\"Income Bin\", ylabel=\"Number of Agents\" , xticks=1:K))\n",
    "       else\n",
    "           display(bar(D, func=cdf, alpha=0.3, legend=:topleft, label = D_label, xlabel=\"Income Bin\", ylabel=\"Number of Agents\" , xticks=1:K))\n",
    "       end \n",
    "       display(scatter(sort(A),sort(Rate), legend=:bottomright, xlabel=\"Income in \\$\", ylabel=\"Tax in %\", label = \"Effective Tax Rate\", markersize = 3, c = :orange))\n",
    "       ic+=1\n",
    "       for j=1:length(A)\n",
    "            B[j]=A[j]\n",
    "       end\n",
    "    end\n",
    "end\n",
    "print(\"\\n Minimum \", minimum(A), \"\\n Maximum \", maximum(A), \"\\n Sum \", \n",
    "    sum(A))\n",
    "\n",
    "plot(I,O,legend=:topleft,label = [\"Max Wealth\"])\n",
    "display(plot!(I,M,legend=:topleft,label = [\"Median Wealth\"]))\n",
    "display(plot(I,wealth,legend=:topright,xlabel=\"Iterations t\",ylabel=\"Share of Wealth in %\",label = [\"Wealth Bottom 50%\" \"Wealth Top 10%\" \"Wealth Top 1%\"]))"
   ]
  },
  {
   "cell_type": "markdown",
   "metadata": {},
   "source": [
    "First - the regular flat wealth tax regime: 30% "
   ]
  },
  {
   "cell_type": "markdown",
   "metadata": {},
   "source": [
    "# Run for a Strong Wealth Tax"
   ]
  },
  {
   "cell_type": "markdown",
   "metadata": {},
   "source": [
    "## Initialization"
   ]
  },
  {
   "cell_type": "code",
   "execution_count": null,
   "metadata": {},
   "outputs": [],
   "source": [
    "using Random \n",
    "Random.seed!(1);\n",
    "N=1000  # Number of Agents\n",
    "W=1000   # Starting share of wealth for all\n",
    "T=100000  # Number of iterations\n",
    "K=10  # Number of bins for the wealth distribution\n",
    "tax=0.6   # Percentage of flat income tax (30 (it), 60 (sit), 5 (wit))\n",
    "taxperiod=100   # Every taxperiod iterations, taxes are due and redistributed\n",
    "R=[1,1000,10000,100000]    # Reporting times T=...\n",
    "b=W/K\n",
    "print(\"Number of bins for distribution: \",K,\" bin size \",b)\n",
    "A = fill(W,N);\n",
    "A_old = fill(W,N);\n",
    "B = fill(W,N);\n",
    "Income = fill(0,N);\n",
    "Rate = fill(0,N);\n",
    "O = fill(0,T);\n",
    "M = fill(0.0,T);\n",
    "I = fill(0,T);\n",
    "wealth = fill(0.0,T,3)\n",
    "D = fill(0,K);\n",
    "D_Income = fill(0,K);\n",
    "#g = fill(0.0,T,3);\n",
    "D=VectorToDistr(A,K);"
   ]
  },
  {
   "cell_type": "markdown",
   "metadata": {},
   "source": [
    "## Wealth Tax of 60%"
   ]
  },
  {
   "cell_type": "code",
   "execution_count": null,
   "metadata": {},
   "outputs": [],
   "source": [
    "ic=1\n",
    "D_label=\"t=\" * string(R[ic])\n",
    "display(bar(D, func=cdf, alpha=0.3, legend=:topleft, label = D_label, xlabel=\"Income Bin\", ylabel=\"Number of Agents\" , xticks=1:K))\n",
    "#\n",
    "ic=2    # This is the first report after the initial distribution\n",
    "for i=1:T\n",
    "    AgentsInteractSymmetrical(A)\n",
    "    I[i]=i\n",
    "    O[i]=maximum(A)\n",
    "    M[i]=median(A)\n",
    "    wealth[i,1]=100.0-WealthTopXPerc(A,.5)\n",
    "    wealth[i,2]=WealthTopXPerc(A,.1)\n",
    "    wealth[i,3]=WealthTopXPerc(A,.01)    \n",
    "    if (mod(i,taxperiod) == 0)\n",
    "        TaxAgentsWealth(A,tax)\n",
    "        Rate=TaxRate(A,B)*100.\n",
    "        for j=1:N\n",
    "            B[j]=A[j]\n",
    "        end\n",
    "    end\n",
    "    g[i,2]=Gini(A)\n",
    "    if (mod(i,N) == 0)\n",
    "        for j=1:N\n",
    "            Income[j]=A[j]-A_old[j]\n",
    "            A_old[j]=A[j]\n",
    "        end\n",
    "    end\n",
    "    if (i == R[ic])\n",
    "       D=VectorToDistr(A,K)\n",
    "       D_Income=VectorToDistrModified(Income,K)\n",
    "       print(\"\\n D_Income: \",D_Income,\" Iteration \",i, \"  Min-Income \",minimum(Income))\n",
    "       D_label=\"t=\" * string(R[ic]) * \"     Strong Wealth Tax Regime\"\n",
    "       Di_label=\"t=\" * string(R[ic]) * \" Income in Strong Wealth Tax Regime\"\n",
    "       if (i >= 1000)\n",
    "          display(bar(D, func=cdf, alpha=0.3, legend=:topright, label = D_label, xlabel=\"Income Bin\", ylabel=\"Number of Agents\" , xticks=1:K))\n",
    "          display(bar(D_Income, func=cdf, alpha=0.3, legend=:topright, label = Di_label, xlabel=\"Income Bin\", ylabel=\"Number of Agents\" , xticks=1:K))\n",
    "       else\n",
    "           display(bar(D, func=cdf, alpha=0.3, legend=:topleft, label = D_label, xlabel=\"Income Bin\", ylabel=\"Number of Agents\" , xticks=1:K))\n",
    "       end \n",
    "       display(scatter(sort(A),sort(Rate), legend=:bottomright, xlabel=\"Income in \\$\", ylabel=\"Tax in %\", label = \"Effective Tax Rate\", markersize = 3, c = :orange))\n",
    "       ic+=1\n",
    "       for j=1:length(A)\n",
    "            B[j]=A[j]\n",
    "       end\n",
    "    end\n",
    "end\n",
    "print(\"\\n Minimum \", minimum(A), \"\\n Maximum \", maximum(A), \"\\n Sum \", \n",
    "    sum(A))\n",
    "\n",
    "plot(I,O,legend=:topleft,label = [\"Max Wealth\"])\n",
    "display(plot!(I,M,legend=:topleft,label = [\"Median Wealth\"]))\n",
    "display(plot(I,wealth,legend=:topright,xlabel=\"Iterations t\",ylabel=\"Share of Wealth in %\",label = [\"Wealth Bottom 50%\" \"Wealth Top 10%\" \"Wealth Top 1%\"]))"
   ]
  },
  {
   "cell_type": "markdown",
   "metadata": {},
   "source": [
    "# Run with a Weak Wealth Tax"
   ]
  },
  {
   "cell_type": "markdown",
   "metadata": {},
   "source": [
    "## Initialization"
   ]
  },
  {
   "cell_type": "code",
   "execution_count": null,
   "metadata": {},
   "outputs": [],
   "source": [
    "using Random \n",
    "Random.seed!(1);\n",
    "N=1000  # Number of Agents\n",
    "W=1000   # Starting share of wealth for all\n",
    "T=100000  # Number of iterations\n",
    "K=10  # Number of bins for the wealth distribution\n",
    "tax=0.05   # Percentage of flat income tax (30 (it), 60 (sit), 5 (wit))\n",
    "taxperiod=100   # Every taxperiod iterations, taxes are due and redistributed\n",
    "R=[1,1000,10000,100000]    # Reporting times T=...\n",
    "b=W/K\n",
    "print(\"Number of bins for distribution: \",K,\" bin size \",b)\n",
    "A = fill(W,N);\n",
    "A_old = fill(W,N);\n",
    "B = fill(W,N);\n",
    "Income = fill(0,N);\n",
    "Rate = fill(0,N);\n",
    "O = fill(0,T);\n",
    "M = fill(0.0,T);\n",
    "I = fill(0,T);\n",
    "wealth = fill(0.0,T,3)\n",
    "D = fill(0,K);\n",
    "D_Income = fill(0,K);\n",
    "#g = fill(0.0,T,3);\n",
    "D=VectorToDistr(A,K);"
   ]
  },
  {
   "cell_type": "markdown",
   "metadata": {},
   "source": [
    "## Run with a 5 % Wealth Tax"
   ]
  },
  {
   "cell_type": "code",
   "execution_count": null,
   "metadata": {},
   "outputs": [],
   "source": [
    "ic=1\n",
    "D_label=\"t=\" * string(R[ic])\n",
    "display(bar(D, func=cdf, alpha=0.3, legend=:topleft, label = D_label, xlabel=\"Income Bin\", ylabel=\"Number of Agents\" , xticks=1:K))\n",
    "#\n",
    "ic=2    # This is the first report after the initial distribution\n",
    "for i=1:T\n",
    "    AgentsInteractSymmetrical(A)\n",
    "    I[i]=i\n",
    "    O[i]=maximum(A)\n",
    "    M[i]=median(A)\n",
    "    wealth[i,1]=100.0-WealthTopXPerc(A,.5)\n",
    "    wealth[i,2]=WealthTopXPerc(A,.1)\n",
    "    wealth[i,3]=WealthTopXPerc(A,.01)    \n",
    "    if (mod(i,taxperiod) == 0)\n",
    "        TaxAgentsWealth(A,tax)\n",
    "        Rate=TaxRate(A,B)*100.\n",
    "        for j=1:N\n",
    "            B[j]=A[j]\n",
    "        end\n",
    "    end\n",
    "    g[i,3]=Gini(A)\n",
    "    if (mod(i,N) == 0)\n",
    "        for j=1:N\n",
    "            Income[j]=A[j]-A_old[j]\n",
    "            A_old[j]=A[j]\n",
    "        end\n",
    "    end\n",
    "    if (i == R[ic])\n",
    "       D=VectorToDistr(A,K)\n",
    "       D_Income=VectorToDistrModified(Income,K)\n",
    "       print(\"\\n D_Income: \",D_Income,\" Iteration \",i, \"  Min-Income \",minimum(Income))\n",
    "       D_label=\"t=\" * string(R[ic]) * \"     Weak Wealth Tax Regime\"\n",
    "       Di_label=\"t=\" * string(R[ic]) * \" Income in Weak Wealth Tax Regime\"\n",
    "       if (i >= 1000)\n",
    "          display(bar(D, func=cdf, alpha=0.3, legend=:topright, label = D_label, xlabel=\"Income Bin\", ylabel=\"Number of Agents\" , xticks=1:K))\n",
    "          display(bar(D_Income, func=cdf, alpha=0.3, legend=:topright, label = Di_label, xlabel=\"Income Bin\", ylabel=\"Number of Agents\" , xticks=1:K))\n",
    "       else\n",
    "           display(bar(D, func=cdf, alpha=0.3, legend=:topleft, label = D_label, xlabel=\"Income Bin\", ylabel=\"Number of Agents\" , xticks=1:K))\n",
    "       end \n",
    "       display(scatter(sort(A),sort(Rate), legend=:bottomright, xlabel=\"Income in \\$\", ylabel=\"Tax in %\", label = \"Effective Tax Rate\", markersize = 3, c = :orange))\n",
    "       ic+=1\n",
    "       for j=1:length(A)\n",
    "            B[j]=A[j]\n",
    "       end\n",
    "    end\n",
    "end\n",
    "print(\"\\n Minimum \", minimum(A), \"\\n Maximum \", maximum(A), \"\\n Sum \", \n",
    "    sum(A))\n",
    "\n",
    "plot(I,O,legend=:topleft,label = [\"Max Wealth\"])\n",
    "display(plot!(I,M,legend=:topleft,label = [\"Median Wealth\"]))\n",
    "display(plot(I,wealth,legend=:topright,xlabel=\"Iterations t\",ylabel=\"Share of Wealth in %\",label = [\"Wealth Bottom 50%\" \"Wealth Top 10%\" \"Wealth Top 1%\"]))"
   ]
  },
  {
   "cell_type": "code",
   "execution_count": null,
   "metadata": {},
   "outputs": [],
   "source": [
    "display(plot(I,g,legend=:right, xlabel = \"Iterations t\", ylabel=\"Gini\", label = [\"Gini Coefficient 30% Wealth Tax\" \"Gini Coefficient 60% Wealth Tax\" \"Gini Coefficient 5% Wealth Tax\"]))"
   ]
  }
 ],
 "metadata": {
  "kernelspec": {
   "display_name": "Julia 1.2.0",
   "language": "julia",
   "name": "julia-1.2"
  },
  "language_info": {
   "file_extension": ".jl",
   "mimetype": "application/julia",
   "name": "julia",
   "version": "1.2.0"
  }
 },
 "nbformat": 4,
 "nbformat_minor": 4
}
