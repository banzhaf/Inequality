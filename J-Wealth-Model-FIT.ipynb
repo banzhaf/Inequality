{
 "cells": [
  {
   "cell_type": "markdown",
   "metadata": {},
   "source": [
    "# Wealth Model 3 in JULIA\n",
    "## Here we provide the first tax model (Flat income tax)  "
   ]
  },
  {
   "cell_type": "markdown",
   "metadata": {},
   "source": [
    "We shall introduce a population of N agents, each with equal share of wealth of the nation (\\$1,000).\n",
    "\n",
    "They encounter each other randomly and exchange a random amount of their wealth in each exchange, with the direction being random. "
   ]
  },
  {
   "cell_type": "markdown",
   "metadata": {},
   "source": [
    "Then we tax the \"income\" of agents at regular intervals (to be fixed) and redistribute this flat tax among all agents equally. The equilibrium will be probably again an exponential distribution, but reached much slower."
   ]
  },
  {
   "cell_type": "markdown",
   "metadata": {},
   "source": [
    "## Preparation"
   ]
  },
  {
   "cell_type": "code",
   "execution_count": null,
   "metadata": {},
   "outputs": [],
   "source": [
    "using Distributions\n",
    "using Plots"
   ]
  },
  {
   "cell_type": "markdown",
   "metadata": {},
   "source": [
    "### Function Definitions"
   ]
  },
  {
   "cell_type": "code",
   "execution_count": null,
   "metadata": {},
   "outputs": [],
   "source": [
    "function Gini(A::Vector)::Float64\n",
    "    gi=0.\n",
    "    for i=1:length(A)\n",
    "        for j=i+1:length(A)\n",
    "            gi+=abs(A[i]-A[j])\n",
    "        end\n",
    "    end\n",
    "    g=gi/(length(A)*sum(A))\n",
    "    return g\n",
    "end"
   ]
  },
  {
   "cell_type": "code",
   "execution_count": null,
   "metadata": {},
   "outputs": [],
   "source": [
    "function WealthTopXPerc(A::Vector,x::Float64)::Float64 \n",
    "    s=zeros(Int64,length(A))\n",
    "    s=sort(A)\n",
    "    indmin=Int(round(x*length(A)))\n",
    "    w=0\n",
    "    for i=length(A)-indmin:length(A)\n",
    "        w+=s[i]\n",
    "    end\n",
    "    wf=w*100.0/sum(A)   # in percent of total\n",
    "    return wf\n",
    "end"
   ]
  },
  {
   "cell_type": "code",
   "execution_count": null,
   "metadata": {},
   "outputs": [],
   "source": [
    "function VectorToDistr(A::Vector,k::Int)::Vector\n",
    "    d=zeros(Int64,k)\n",
    "    b=maximum(A)\n",
    "    for i=1:length(A)\n",
    "        for j=1:k\n",
    "            if (A[i] >= (j-1)*b/k)\n",
    "               if (A[i] <= j*b/k) \n",
    "                  d[j]=d[j]+1\n",
    "               end\n",
    "            end\n",
    "        end\n",
    "    end\n",
    "    return d\n",
    "end"
   ]
  },
  {
   "cell_type": "code",
   "execution_count": null,
   "metadata": {},
   "outputs": [],
   "source": [
    "function AgentsInteractAmount(A::Vector)\n",
    "    x=rand(big.(1:length(A)),2)\n",
    "    if (A[x[1]] > A[x[2]])\n",
    "        diff=A[x[2]]\n",
    "    else\n",
    "        diff=A[x[1]]\n",
    "    end\n",
    "#    print(\"\\n\",diff)\n",
    "    y=rand(2)\n",
    "    if (y[1] < .5) \n",
    "        A[x[1]]+=Int(round(y[2]*diff))\n",
    "        A[x[2]]-=Int(round(y[2]*diff))\n",
    "    else\n",
    "        A[x[1]]-=Int(round(y[2]*diff))\n",
    "        A[x[2]]+=Int(round(y[2]*diff))\n",
    "   end\n",
    "end"
   ]
  },
  {
   "cell_type": "markdown",
   "metadata": {},
   "source": [
    "This next function was erroneously thought to be an income tax. It is a wealth tax and will be studied in another notebook. So I'll remove it here."
   ]
  },
  {
   "cell_type": "code",
   "execution_count": null,
   "metadata": {},
   "outputs": [],
   "source": [
    "function TaxRate(A,B::Vector)::Vector\n",
    "    R=zeros(Float64,length(A))\n",
    "    for i=1:length(A)\n",
    "        R[i]=(B[i]-A[i])/B[i]\n",
    "    end\n",
    "    return R\n",
    "end"
   ]
  },
  {
   "cell_type": "markdown",
   "metadata": {},
   "source": [
    "Here is an income tax which is distributed to the best of possibility back to all agents. It is currently a flat tax of a certain percentage. Losses are not allowed to be taken into account."
   ]
  },
  {
   "cell_type": "code",
   "execution_count": null,
   "metadata": {},
   "outputs": [],
   "source": [
    "function TaxAgentsIncome(A::Vector,B::Vector,tax::Float64)\n",
    "    sv=sum(A)\n",
    "    for i=1:length(A)\n",
    "        earn=A[i]-B[i]\n",
    "        t=0\n",
    "        if (earn > 0)\n",
    "            t=Int(round(earn*tax))   # Only positive income is taxed\n",
    "        else\n",
    "            t=0\n",
    "        end\n",
    "        A[i]-=t   \n",
    "    end\n",
    "    sn=sum(A)\n",
    "    total=sv-sn\n",
    "#    print(\"\\n sv \",sv,\" sn \",sn,\" total \",total,\" to distr to each\", floor(total/length(A)))\n",
    "#    print(\"\\n real vs int values \", total/length(A),\" \",Int(round(total/length(A))))\n",
    "    zuf=rand(length(A))\n",
    "    for i=1:length(A)\n",
    "        A[i]+=Int(floor(total/length(A)))\n",
    "        if (zuf[i] < (total/length(A)-floor(total/length(A))))\n",
    "            A[i]+=1\n",
    "        end\n",
    "    end\n",
    "end"
   ]
  },
  {
   "cell_type": "markdown",
   "metadata": {},
   "source": [
    "### Initialization"
   ]
  },
  {
   "cell_type": "code",
   "execution_count": null,
   "metadata": {},
   "outputs": [],
   "source": [
    "using Random \n",
    "Random.seed!(1);\n",
    "N=1000  # Number of Agents\n",
    "W=1000   # Starting share of wealth for all\n",
    "T=10000  # Number of iterations\n",
    "K=10  # Number of bins for the wealth distribution\n",
    "tax=0.3   # Percentage of flat income tax (30 (it), 60 (sit), 5 (wit))\n",
    "taxperiod=10   # Every taxperiod iterations, taxes are due and redistributed\n",
    "R=[0,1,10,100,1000,10000,100000]    # Reporting times T=...\n",
    "b=W/K\n",
    "print(\"Number of bins for distribution: \",K,\" bin size \",b)\n",
    "A = fill(W,N);\n",
    "B = fill(W,N);\n",
    "O = fill(0,T);\n",
    "M = fill(0.0,T);\n",
    "I = fill(0,T);\n",
    "Rate = fill(0,N);\n",
    "wealth = fill(0.0,T,3)\n",
    "D = fill(0,K);\n",
    "g = fill(0.0,T,3);\n",
    "D=VectorToDistr(A,K);"
   ]
  },
  {
   "cell_type": "markdown",
   "metadata": {},
   "source": [
    "### Start Iterations with Regular Income Tax of 30%"
   ]
  },
  {
   "cell_type": "code",
   "execution_count": null,
   "metadata": {},
   "outputs": [],
   "source": [
    "ic=1\n",
    "D_label=\"t=\" * string(R[ic])\n",
    "display(bar(D, func=cdf, alpha=0.3, legend=:topleft, label = D_label, xlabel=\"Income Bin\", ylabel=\"Number of Agents\", xticks=1:10))\n",
    "#\n",
    "ic=2    # This is the first report after the initial distribution\n",
    "Om=0\n",
    "for i=1:T\n",
    "    AgentsInteractAmount(A)\n",
    "    I[i]=i\n",
    "    if (Om < maximum(A)) ## Modified to maximum across all iterations so far\n",
    "        O[i]=maximum(A)\n",
    "        Om=maximum(A)\n",
    "    else\n",
    "        O[i]=O[i-1]\n",
    "    end\n",
    "    M[i]=median(A)\n",
    "    wealth[i,1]=100.0-WealthTopXPerc(A,.5)\n",
    "    wealth[i,2]=WealthTopXPerc(A,.1)\n",
    "    wealth[i,3]=WealthTopXPerc(A,.01)    \n",
    "    if (mod(i,taxperiod) == 0)\n",
    "        TaxAgentsIncome(A,B,tax)\n",
    "        Rate=TaxRate(A,B)*100.\n",
    "        for j=1:length(A)\n",
    "            B[j]=A[j]\n",
    "        end\n",
    "    end\n",
    "    g[i,1]=Gini(A)\n",
    "    if (i == R[ic])\n",
    "       D=VectorToDistr(A,K)\n",
    "#       print(\"\\n D: \",D,\" Iteration \",i)\n",
    "       D_label=\"t=\" * string(R[ic]) * \"   Flat Income Tax\"\n",
    "       if (i > 500)\n",
    "          display(bar(D, func=cdf, alpha=0.3, legend=:topright, label = D_label, xlabel=\"Income Bin\", ylabel=\"Number of Agents\", xticks=1:K))\n",
    "       else\n",
    "           display(bar(D, func=cdf, alpha=0.3, legend=:topleft, label = D_label, xlabel=\"Income Bin\", ylabel=\"Number of Agents\", xticks=1:K))\n",
    "       end           \n",
    "       display(scatter(sort(A),sort(Rate), legend=:bottomright, xlabel=\"Income in \\$\", ylabel=\"Tax in %\", label = \"Effective Tax Rate\", markersize = 3, c = :orange))\n",
    "       ic+=1\n",
    "    end\n",
    "end\n",
    "print(\"\\n Minimum \", minimum(A), \"\\n Maximum \", maximum(A), \"\\n Sum \", \n",
    "    sum(A))\n",
    "plot(I,O,legend=:topleft,label = [\"Max Wealth\"], xlabel=\"Iterations t\", ylabel=\"Wealth in \\$\")\n",
    "display(plot!(I,M,legend=:topleft,label = [\"Median Wealth\"]))\n",
    "display(plot(I,wealth,legend=:topright,xlabel=\"Iterations t\",ylabel=\"Share of Wealth in %\",label = [\"Wealth Bottom 50%\" \"Wealth Top 10%\" \"Wealth Top 1%\"]))"
   ]
  },
  {
   "cell_type": "code",
   "execution_count": null,
   "metadata": {},
   "outputs": [],
   "source": [
    "display(plot(I,wealth,legend=:best,xlabel=\"Iterations t\",ylabel=\"Share of Wealth in %\",label = [\"Wealth Bottom 50%\" \"Wealth Top 10%\" \"Wealth Top 1%\"]))"
   ]
  },
  {
   "cell_type": "markdown",
   "metadata": {},
   "source": [
    "## Next - the regular flat income tax regime with 60% "
   ]
  },
  {
   "cell_type": "markdown",
   "metadata": {},
   "source": [
    "## New Initialization"
   ]
  },
  {
   "cell_type": "code",
   "execution_count": null,
   "metadata": {},
   "outputs": [],
   "source": [
    "using Random \n",
    "Random.seed!(1);\n",
    "N=1000  # Number of Agents\n",
    "W=1000   # Starting share of wealth for all\n",
    "T=10000  # Number of iterations\n",
    "K=10  # Number of bins for the wealth distribution\n",
    "tax=0.6   # Percentage of flat income tax (30 (it), 60 (sit), 5 (wit))\n",
    "taxperiod=10   # Every taxperiod iterations, taxes are due and redistributed\n",
    "R=[0,1,10,100,1000,10000,100000]    # Reporting times T=...\n",
    "#R_D=zeros(Int64,6,K)\n",
    "b=W/K\n",
    "print(\"Number of bins for distribution: \",K,\" bin size \",b)\n",
    "A = fill(W,N);\n",
    "B = fill(W,N);\n",
    "O = fill(0,T);\n",
    "M = fill(0.0,T);\n",
    "I = fill(0,T);\n",
    "wealth = fill(0.0,T,3)\n",
    "D = fill(0,K);\n",
    "D=VectorToDistr(A,K);"
   ]
  },
  {
   "cell_type": "markdown",
   "metadata": {},
   "source": [
    "## Start Iterations with Strong Income Tax Regime of 60%"
   ]
  },
  {
   "cell_type": "code",
   "execution_count": null,
   "metadata": {},
   "outputs": [],
   "source": [
    "ic=1\n",
    "D_label=\"T=\" * string(R[ic])\n",
    "display(bar(D, func=cdf, alpha=0.3, legend=:topleft, label = D_label, xticks=0:1000))\n",
    "#\n",
    "ic=2    # This is the first report after the initial distribution\n",
    "for i=1:T\n",
    "    AgentsInteractAmount(A)\n",
    "    I[i]=i\n",
    "    O[i]=maximum(A)\n",
    "    M[i]=median(A)\n",
    "    wealth[i,1]=100.0-WealthTopXPerc(A,.5)\n",
    "    wealth[i,2]=WealthTopXPerc(A,.1)\n",
    "    wealth[i,3]=WealthTopXPerc(A,.01)    \n",
    "    if (mod(i,taxperiod) == 0)\n",
    "        TaxAgentsIncome(A,B,tax)\n",
    "        for j=1:length(A)\n",
    "            B[j]=A[j]\n",
    "        end\n",
    "    end\n",
    "    g[i,2]=Gini(A)\n",
    "    if (i == R[ic])\n",
    "       D=VectorToDistr(A,K)\n",
    "#       print(\"\\n D: \",D,\" Iteration \",i)\n",
    "       D_label=\"T=\" * string(R[ic]) * \"   Strong Income Tax\"\n",
    "       if (i > 1000)\n",
    "          display(bar(D, func=cdf, alpha=0.3, legend=:topright, label = D_label, xticks=0:1000))\n",
    "       else\n",
    "           display(bar(D, func=cdf, alpha=0.3, legend=:topleft, label = D_label, xticks=0:1000))\n",
    "       end           \n",
    "       ic+=1\n",
    "    end\n",
    "end\n",
    "print(\"\\n Minimum \", minimum(A), \"\\n Maximum \", maximum(A), \"\\n Sum \", \n",
    "    sum(A))\n",
    "plot(I,O,legend=:topleft,label = [\"Max Wealth\"])\n",
    "display(plot!(I,M,legend=:topleft,label = [\"Median Wealth\"]))\n",
    "display(plot(I,wealth,legend=:topright,ylabel=\"Share of Wealth in %\",label = [\"Wealth Bottom 50%\" \"Wealth Top 10%\" \"Wealth Top 1%\"]))"
   ]
  },
  {
   "cell_type": "code",
   "execution_count": null,
   "metadata": {},
   "outputs": [],
   "source": [
    "display(plot(I,wealth,legend=:topleft,xlabel=\"Iterations t\", ylabel=\"Share of Wealth in %\",label = [\"Wealth Bottom 50%\" \"Wealth Top 10%\" \"Wealth Top 1%\"]))"
   ]
  },
  {
   "cell_type": "markdown",
   "metadata": {},
   "source": [
    "We are witnessing a delay in the formation of the exponential distribution, but ultimately, it forms."
   ]
  },
  {
   "cell_type": "markdown",
   "metadata": {},
   "source": [
    "## Third - the weak flat income tax regime: 5% "
   ]
  },
  {
   "cell_type": "markdown",
   "metadata": {},
   "source": [
    "## New Initialization"
   ]
  },
  {
   "cell_type": "code",
   "execution_count": null,
   "metadata": {},
   "outputs": [],
   "source": [
    "using Random \n",
    "Random.seed!(1);\n",
    "N=1000  # Number of Agents\n",
    "W=1000   # Starting share of wealth for all\n",
    "T=10000  # Number of iterations\n",
    "K=10  # Number of bins for the wealth distribution\n",
    "tax=0.05   # Percentage of flat income tax (30 (it), 60 (sit), 5 (wit))\n",
    "taxperiod=10   # Every taxperiod iterations, taxes are due and redistributed\n",
    "R=[0,1,10,100,1000,10000,100000]    # Reporting times T=...\n",
    "#R_D=zeros(Int64,6,K)\n",
    "b=W/K\n",
    "print(\"Number of bins for distribution: \",K,\" bin size \",b)\n",
    "A = fill(W,N);\n",
    "B = fill(W,N);\n",
    "O = fill(0,T);\n",
    "M = fill(0.0,T);\n",
    "I = fill(0,T);\n",
    "wealth = fill(0.0,T,3)\n",
    "D = fill(0,K);\n",
    "D=VectorToDistr(A,K);"
   ]
  },
  {
   "cell_type": "markdown",
   "metadata": {},
   "source": [
    "## Start Iterations with Weak Income Tax Regime of 5%"
   ]
  },
  {
   "cell_type": "code",
   "execution_count": null,
   "metadata": {},
   "outputs": [],
   "source": [
    "ic=1\n",
    "D_label=\"T=\" * string(R[ic])\n",
    "display(bar(D, func=cdf, alpha=0.3, legend=:topleft, label = D_label, xticks=0:1000))\n",
    "#\n",
    "ic=2    # This is the first report after the initial distribution\n",
    "for i=1:T\n",
    "    AgentsInteractAmount(A)\n",
    "    I[i]=i\n",
    "    O[i]=maximum(A)\n",
    "    M[i]=median(A)\n",
    "    wealth[i,1]=100.0-WealthTopXPerc(A,.5)\n",
    "    wealth[i,2]=WealthTopXPerc(A,.1)\n",
    "    wealth[i,3]=WealthTopXPerc(A,.01)    \n",
    "    if (mod(i,taxperiod) == 0)\n",
    "        TaxAgentsIncome(A,B,tax)\n",
    "        for j=1:length(A)\n",
    "            B[j]=A[j]\n",
    "        end\n",
    "    end\n",
    "    g[i,3]=Gini(A)\n",
    "    if (i == R[ic])\n",
    "       D=VectorToDistr(A,K)\n",
    "#       print(\"\\n D: \",D,\" Iteration \",i)\n",
    "       D_label=\"T=\" * string(R[ic]) * \"   Weak Income Tax\"\n",
    "       if (i > 1000)\n",
    "          display(bar(D, func=cdf, alpha=0.3, legend=:topright, label = D_label, xticks=0:1000))\n",
    "       else\n",
    "           display(bar(D, func=cdf, alpha=0.3, legend=:topleft, label = D_label, xticks=0:1000))\n",
    "       end           \n",
    "       ic+=1\n",
    "    end\n",
    "end\n",
    "print(\"\\n Minimum \", minimum(A), \"\\n Maximum \", maximum(A), \"\\n Sum \", \n",
    "    sum(A))\n",
    "plot(I,O,legend=:topleft,label = [\"Max Wealth\"])\n",
    "display(plot!(I,M,legend=:topleft,label = [\"Median Wealth\"]))\n",
    "display(plot(I,wealth,legend=:topright,ylabel=\"Share of Wealth in %\",label = [\"Wealth Bottom 50%\" \"Wealth Top 10%\" \"Wealth Top 1%\"]))\n",
    "display(plot(I,g,legend=:topright,label = [\"Gini Coefficient 30% Flat Income Tax\" \"Gini Coefficient 60% Flat Income Tax\" \"Gini Coefficient 5% Flat Income Tax\"]))"
   ]
  },
  {
   "cell_type": "code",
   "execution_count": null,
   "metadata": {},
   "outputs": [],
   "source": [
    "display(plot(I,g,legend=:bottomright, xlabel = \"Iterations t\", ylabel=\"Gini\", label = [\"Gini Coefficient 30% Flat Income Tax\" \"Gini Coefficient 60% Flat Income Tax\" \"Gini Coefficient 5% Flat Income Tax\"]))"
   ]
  },
  {
   "cell_type": "code",
   "execution_count": null,
   "metadata": {},
   "outputs": [],
   "source": [
    "display(plot(I,wealth,legend=:topright, xlabel=\"Iterations t\", ylabel=\"Share of Wealth in %\",label = [\"Wealth Bottom 50%\" \"Wealth Top 10%\" \"Wealth Top 1%\"]))"
   ]
  },
  {
   "cell_type": "markdown",
   "metadata": {},
   "source": [
    "# New Initialization : 0 taxes"
   ]
  },
  {
   "cell_type": "code",
   "execution_count": null,
   "metadata": {},
   "outputs": [],
   "source": [
    "using Random \n",
    "Random.seed!(1);\n",
    "N=1000  # Number of Agents\n",
    "W=1000   # Starting share of wealth for all\n",
    "T=10000  # Number of iterations\n",
    "K=10  # Number of bins for the wealth distribution\n",
    "tax=0.0   # Percentage of flat income tax (30 (it), 60 (sit), 5 (wit))\n",
    "taxperiod=10   # Every taxperiod iterations, taxes are due and redistributed\n",
    "R=[0,1,10,100,1000,10000,100000]    # Reporting times T=...\n",
    "#R_D=zeros(Int64,6,K)\n",
    "b=W/K\n",
    "print(\"Number of bins for distribution: \",K,\" bin size \",b)\n",
    "A = fill(W,N);\n",
    "B = fill(W,N);\n",
    "O = fill(0,T);\n",
    "M = fill(0.0,T);\n",
    "I = fill(0,T);\n",
    "wealth = fill(0.0,T,3)\n",
    "D = fill(0,K);\n",
    "D=VectorToDistr(A,K);"
   ]
  },
  {
   "cell_type": "markdown",
   "metadata": {},
   "source": [
    "# Iterations with 0 tax"
   ]
  },
  {
   "cell_type": "code",
   "execution_count": null,
   "metadata": {},
   "outputs": [],
   "source": [
    "ic=1\n",
    "D_label=\"T=\" * string(R[ic])\n",
    "display(bar(D, func=cdf, alpha=0.3, legend=:topleft, label = D_label, xticks=0:1000))\n",
    "#\n",
    "ic=2    # This is the first report after the initial distribution\n",
    "for i=1:T\n",
    "    AgentsInteractAmount(A)\n",
    "    I[i]=i\n",
    "    O[i]=maximum(A)\n",
    "    M[i]=median(A)\n",
    "    wealth[i,1]=100.0-WealthTopXPerc(A,.5)\n",
    "    wealth[i,2]=WealthTopXPerc(A,.1)\n",
    "    wealth[i,3]=WealthTopXPerc(A,.01)    \n",
    "    if (mod(i,taxperiod) == 0)\n",
    "        TaxAgentsIncome(A,B,tax)\n",
    "        for j=1:length(A)\n",
    "            B[j]=A[j]\n",
    "        end\n",
    "    end\n",
    "    g[i,3]=Gini(A)\n",
    "    if (i == R[ic])\n",
    "       D=VectorToDistr(A,K)\n",
    "#       print(\"\\n D: \",D,\" Iteration \",i)\n",
    "       D_label=\"T=\" * string(R[ic]) * \"   Weak Income Tax\"\n",
    "       if (i > 1000)\n",
    "          display(bar(D, func=cdf, alpha=0.3, legend=:topright, label = D_label, xticks=0:1000))\n",
    "       else\n",
    "           display(bar(D, func=cdf, alpha=0.3, legend=:topleft, label = D_label, xticks=0:1000))\n",
    "       end           \n",
    "       ic+=1\n",
    "    end\n",
    "end\n",
    "print(\"\\n Minimum \", minimum(A), \"\\n Maximum \", maximum(A), \"\\n Sum \", \n",
    "    sum(A))\n",
    "plot(I,O,legend=:topleft,label = [\"Max Wealth\"])\n",
    "display(plot!(I,M,legend=:topleft,label = [\"Median Wealth\"]))\n",
    "display(plot(I,wealth,legend=:topright,ylabel=\"Share of Wealth in %\",label = [\"Wealth Bottom 50%\" \"Wealth Top 10%\" \"Wealth Top 1%\"]))\n",
    "display(plot(I,g,legend=:topright,label = [\"Gini Coefficient 30% Flat Income Tax\" \"Gini Coefficient 60% Flat Income Tax\" \"Gini Coefficient 5% Flat Income Tax\"]))"
   ]
  },
  {
   "cell_type": "code",
   "execution_count": null,
   "metadata": {},
   "outputs": [],
   "source": [
    "display(plot(I,wealth,legend=:topright, xlabel=\"Iterations t\", ylabel=\"Share of Wealth in %\",label = [\"Wealth Bottom 50%\" \"Wealth Top 10%\" \"Wealth Top 1%\"]))"
   ]
  },
  {
   "cell_type": "markdown",
   "metadata": {},
   "source": [
    "Now a test on the amounts of the sums, as it seems the economy is growing without us explicitly allowing that."
   ]
  },
  {
   "cell_type": "markdown",
   "metadata": {},
   "source": [
    "## Redistribution of Tax to the Poorer Population"
   ]
  },
  {
   "cell_type": "markdown",
   "metadata": {},
   "source": [
    "In this simulation, we redistribute the income tax in a different way. Rather than having each agent receive the same amount at the end of the tax season (the entire tax is distributed), we use the \"losses\" of agents and pay them tax back proportionally in Redist_old. Thus, virtually no redistribution is necessary to all at the end of tax season. But, as we want to be more systematic, we also study a system where the income tax is distributed equally to all who have no income."
   ]
  },
  {
   "cell_type": "code",
   "execution_count": null,
   "metadata": {},
   "outputs": [],
   "source": [
    "function TaxAgentsIncome_Redist_old(A::Vector,B::Vector,tax::Float64)\n",
    "    sv=sum(A)\n",
    "    for i=1:length(A)\n",
    "        earn=A[i]-B[i]\n",
    "        t=0\n",
    "        t=Int(round(earn*tax))   # Only positive income is taxed,negative is reimbursed\n",
    "        A[i]-=t   \n",
    "    end\n",
    "    sn=sum(A)\n",
    "    total=sv-sn\n",
    "end\n",
    "\n",
    "function TaxAgentsIncome_Redist_var(A::Vector,B::Vector,tax::Float64)\n",
    "    sv=sum(A)\n",
    "    for i=1:length(A)\n",
    "        earn=A[i]-B[i]\n",
    "        t=0\n",
    "        if (earn[i] > 0)\n",
    "            t=Int(round(earn*tax))   # Only positive income is taxed\n",
    "            A[i]-=t\n",
    "        end \n",
    "    end\n",
    "    sn=sum(A)\n",
    "    total=sv-sn\n",
    "#    print(\"\\n tsum \",tsum,\" N-taxcount \",taxcount)\n",
    "#    print(\"\\n sv \",sv,\" sn \",sn,\" total \",total,\" to distr to each\", floor(total/taxcount))\n",
    "#    print(\"\\n real vs int values \", total/taxcount,\" \",Int(round(total/taxcount)))\n",
    "#    zuf=rand(length(A))     # With a probability give an extra dollar\n",
    "    for i=1:length(A)\n",
    "        earn=A[i]-B[i]\n",
    "        if (earn[i] < 0)\n",
    "            A[i]+=Int(floor(total/taxcount))\n",
    "#            if (zuf[i] < (total/taxcount-floor(total/taxcount)))\n",
    "#                A[i]+=1\n",
    "#            end\n",
    "        end\n",
    "    end\n",
    "end\n",
    "\n",
    "\n",
    "function TaxAgentsIncome_Redist(A::Vector,B::Vector,tax::Float64)\n",
    "    earn=fill(0,length(A))\n",
    "    taxcount=0\n",
    "    tsum=0\n",
    "    sv=sum(A)\n",
    "    for i=1:length(A)\n",
    "        earn[i]=A[i]-B[i]\n",
    "        t=0\n",
    "        if (earn[i] > 0)\n",
    "            t=Int(round(earn[i]*tax))   # Only positive income is taxed\n",
    "            taxcount+=1\n",
    "        else\n",
    "            t=0\n",
    "        end \n",
    "        A[i]-=t\n",
    "        tsum+=t\n",
    "    end\n",
    "    sn=sum(A)\n",
    "    total=sv-sn\n",
    "#    print(\"\\n tsum \",tsum,\" N-taxcount \",taxcount)\n",
    "#    print(\"\\n sv \",sv,\" sn \",sn,\" total \",total,\" to distr to each\", floor(total/taxcount))\n",
    "#    print(\"\\n real vs int values \", total/taxcount,\" \",Int(round(total/taxcount)))\n",
    "    zuf=rand(length(A))     # With a probability give an extra dollar\n",
    "    for i=1:length(A)\n",
    "        if (earn[i] < 0)\n",
    "            A[i]+=Int(floor(total/taxcount))\n",
    "            if (zuf[i] < (total/taxcount-floor(total/taxcount))/2)\n",
    "                A[i]+=1\n",
    "            end\n",
    "        end\n",
    "    end\n",
    "end"
   ]
  },
  {
   "cell_type": "code",
   "execution_count": null,
   "metadata": {},
   "outputs": [],
   "source": [
    "using Random \n",
    "Random.seed!(1);\n",
    "N=1000  # Number of Agents\n",
    "W=1000   # Starting share of wealth for all\n",
    "T=10000  # Number of iterations\n",
    "K=10  # Number of bins for the wealth distribution\n",
    "tax=0.3   # Percentage of flat income tax (30 (it), 60 (sit), 5 (wit))\n",
    "taxperiod=10   # Every taxperiod iterations, taxes are due and redistributed\n",
    "R=[0,1,10,100,1000,10000,100000]    # Reporting times T=...\n",
    "#R_D=zeros(Int64,6,K)\n",
    "b=W/K\n",
    "print(\"Number of bins for distribution: \",K,\" bin size \",b)\n",
    "A = fill(W,N);\n",
    "B = fill(W,N);\n",
    "O = fill(0,T);\n",
    "M = fill(0.0,T);\n",
    "I = fill(0,T);\n",
    "Rate = fill(0,N);\n",
    "wealth = fill(0.0,T,3)\n",
    "D = fill(0,K);\n",
    "D=VectorToDistr(A,K);"
   ]
  },
  {
   "cell_type": "code",
   "execution_count": null,
   "metadata": {},
   "outputs": [],
   "source": [
    "ic=1\n",
    "D_label=\"t=\" * string(R[ic])\n",
    "display(bar(D, func=cdf, alpha=0.3, legend=:topleft, label = D_label, xlabel=\"Income Bin\", ylabel=\"Number of Agents\", xticks=1:K))\n",
    "#\n",
    "ic=2    # This is the first report after the initial distribution\n",
    "Om=0\n",
    "for i=1:T\n",
    "    AgentsInteractAmount(A)\n",
    "    I[i]=i\n",
    "    if (Om < maximum(A))\n",
    "        O[i]=maximum(A)\n",
    "        Om=maximum(A)\n",
    "    else\n",
    "        O[i]=O[i-1]\n",
    "    end\n",
    "    M[i]=median(A)\n",
    "    wealth[i,1]=100.0-WealthTopXPerc(A,.5)\n",
    "    wealth[i,2]=WealthTopXPerc(A,.1)\n",
    "    wealth[i,3]=WealthTopXPerc(A,.01)    \n",
    "    if (mod(i,taxperiod) == 0)\n",
    "        TaxAgentsIncome_Redist(A,B,tax)\n",
    "        Rate=TaxRate(A,B)*100.\n",
    "        for j=1:length(A)\n",
    "            B[j]=A[j]\n",
    "        end\n",
    "    end\n",
    "    if (i == R[ic])\n",
    "       D=VectorToDistr(A,K)\n",
    "#       print(\"\\n D: \",D,\" Iteration \",i)\n",
    "       D_label=\"t=\" * string(R[ic]) * \" Flat Income Tax w Compensation\"\n",
    "       if (i > 500)\n",
    "          display(bar(D, func=cdf, alpha=0.3, legend=:topright, label = D_label, xlabel=\"Income Bin\", ylabel=\"Number of Agents\", xticks=1:K))\n",
    "       else\n",
    "           display(bar(D, func=cdf, alpha=0.3, legend=:topleft, label = D_label, xlabel=\"Income Bin\", ylabel=\"Number of Agents\", xticks=1:K))\n",
    "       end           \n",
    "       display(scatter(sort(A),sort(Rate), legend=:bottomright, xlabel=\"Income in \\$\", ylabel=\"Tax in %\", label = \"Effective Tax Rate\", markersize = 3, c = :orange))\n",
    "       ic+=1\n",
    "    end\n",
    "end\n",
    "print(\"\\n Minimum \", minimum(A), \"\\n Maximum \", maximum(A), \"\\n Sum \", \n",
    "    sum(A))\n",
    "plot(I,O,legend=:topleft,label = [\"Max Wealth\"], xlabel=\"Iteration t\", ylabel=\"Wealth in \\$\")\n",
    "display(plot!(I,M,legend=:topleft,label = [\"Median Wealth\"]))\n",
    "display(plot(I,wealth,legend=:topright, xlabel=\"Iteration t\", ylabel=\"Share of Wealth in %\",label = [\"Wealth Bottom 50%\" \"Wealth Top 10%\" \"Wealth Top 1%\"]))"
   ]
  },
  {
   "cell_type": "code",
   "execution_count": null,
   "metadata": {},
   "outputs": [],
   "source": [
    "using Random \n",
    "Random.seed!(1);\n",
    "N=1000  # Number of Agents\n",
    "W=1000   # Starting share of wealth for all\n",
    "T=100000  # Number of iterations\n",
    "K=10  # Number of bins for the wealth distribution\n",
    "tax=0.6   # Percentage of flat income tax (30 (it), 60 (sit), 5 (wit))\n",
    "taxperiod=10   # Every taxperiod iterations, taxes are due and redistributed\n",
    "R=[0,1,10,100,1000,10000,100000]    # Reporting times T=...\n",
    "#R_D=zeros(Int64,6,K)\n",
    "b=W/K\n",
    "print(\"Number of bins for distribution: \",K,\" bin size \",b)\n",
    "A = fill(W,N);\n",
    "B = fill(W,N);\n",
    "D = fill(0,K);\n",
    "D=VectorToDistr(A,K);"
   ]
  },
  {
   "cell_type": "code",
   "execution_count": null,
   "metadata": {},
   "outputs": [],
   "source": [
    "ic=1\n",
    "D_label=\"T=\" * string(R[ic])\n",
    "display(bar(D, func=cdf, alpha=0.3, legend=:topleft, label = D_label, xticks=0:1000))\n",
    "#\n",
    "ic=2    # This is the first report after the initial distribution\n",
    "for i=1:T\n",
    "    AgentsInteractAmount(A)\n",
    "     if (mod(i,taxperiod) == 0)\n",
    "        TaxAgentsIncome_Redist(A,B,tax)\n",
    "        for j=1:length(A)\n",
    "            B[j]=A[j]\n",
    "        end\n",
    "    end\n",
    "    if (i == R[ic])\n",
    "       D=VectorToDistr(A,K)\n",
    "#       print(\"\\n D: \",D,\" Iteration \",i)\n",
    "       D_label=\"T=\" * string(R[ic]) * \" Strong Income Tax w Compensation\"\n",
    "       if (i > 1000)\n",
    "          display(bar(D, func=cdf, alpha=0.3, legend=:topright, label = D_label, xticks=0:1000))\n",
    "       else\n",
    "           display(bar(D, func=cdf, alpha=0.3, legend=:topleft, label = D_label, xticks=0:1000))\n",
    "       end           \n",
    "       ic+=1\n",
    "    end\n",
    "end\n",
    "print(\"\\n Minimum \", minimum(A), \"\\n Maximum \", maximum(A), \"\\n Sum \", \n",
    "    sum(A))"
   ]
  },
  {
   "cell_type": "code",
   "execution_count": null,
   "metadata": {},
   "outputs": [],
   "source": [
    "using Random \n",
    "Random.seed!(1);\n",
    "N=1000  # Number of Agents\n",
    "W=1000   # Starting share of wealth for all\n",
    "T=100000  # Number of iterations\n",
    "K=10  # Number of bins for the wealth distribution\n",
    "tax=0.05   # Percentage of flat income tax (30 (it), 60 (sit), 5 (wit))\n",
    "taxperiod=10   # Every taxperiod iterations, taxes are due and redistributed\n",
    "R=[0,1,10,100,1000,10000,100000]    # Reporting times T=...\n",
    "#R_D=zeros(Int64,6,K)\n",
    "b=W/K\n",
    "print(\"Number of bins for distribution: \",K,\" bin size \",b)\n",
    "A = fill(W,N);\n",
    "B = fill(W,N);\n",
    "D = fill(0,K);\n",
    "D=VectorToDistr(A,K);"
   ]
  },
  {
   "cell_type": "code",
   "execution_count": null,
   "metadata": {},
   "outputs": [],
   "source": [
    "ic=1\n",
    "D_label=\"T=\" * string(R[ic])\n",
    "display(bar(D, func=cdf, alpha=0.3, legend=:topleft, label = D_label, xticks=0:1000))\n",
    "#\n",
    "ic=2    # This is the first report after the initial distribution\n",
    "for i=1:T\n",
    "    AgentsInteractAmount(A)\n",
    "     if (mod(i,taxperiod) == 0)\n",
    "        TaxAgentsIncome_Redist(A,B,tax)\n",
    "        for j=1:length(A)\n",
    "            B[j]=A[j]\n",
    "        end\n",
    "    end\n",
    "    if (i == R[ic])\n",
    "       D=VectorToDistr(A,K)\n",
    "#       print(\"\\n D: \",D,\" Iteration \",i)\n",
    "       D_label=\"T=\" * string(R[ic]) * \" Weak Income Tax w Compensation\"\n",
    "       if (i > 1000)\n",
    "          display(bar(D, func=cdf, alpha=0.3, legend=:topright, label = D_label, xticks=0:1000))\n",
    "       else\n",
    "           display(bar(D, func=cdf, alpha=0.3, legend=:topleft, label = D_label, xticks=0:1000))\n",
    "       end           \n",
    "       ic+=1\n",
    "    end\n",
    "end\n",
    "print(\"\\n Minimum \", minimum(A), \"\\n Maximum \", maximum(A), \"\\n Sum \", \n",
    "    sum(A))"
   ]
  }
 ],
 "metadata": {
  "kernelspec": {
   "display_name": "Julia 1.2.0",
   "language": "julia",
   "name": "julia-1.2"
  },
  "language_info": {
   "file_extension": ".jl",
   "mimetype": "application/julia",
   "name": "julia",
   "version": "1.2.0"
  }
 },
 "nbformat": 4,
 "nbformat_minor": 4
}
