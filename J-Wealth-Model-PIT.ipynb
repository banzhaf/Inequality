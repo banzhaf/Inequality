{
 "cells": [
  {
   "cell_type": "markdown",
   "metadata": {},
   "source": [
    "# Wealth Model 4 in JULIA\n",
    "## Here we provide the second tax model (Progressive Income Tax)"
   ]
  },
  {
   "cell_type": "markdown",
   "metadata": {},
   "source": [
    "We shall introduce a population of N agents, each with equal share of wealth of the nation (\\$1,000).\n",
    "\n",
    "They encounter each other randomly and exchange a random amount of their wealth in each exchange, with the direction being random. "
   ]
  },
  {
   "cell_type": "markdown",
   "metadata": {},
   "source": [
    "Then we tax the \"income\" of agents at regular intervals (to be fixed) and redistribute this flat tax among all agents equally. The equilibrium will be probably again an exponential distribution, but reached much slower."
   ]
  },
  {
   "cell_type": "markdown",
   "metadata": {},
   "source": [
    "## Preparation"
   ]
  },
  {
   "cell_type": "code",
   "execution_count": null,
   "metadata": {},
   "outputs": [],
   "source": [
    "using Distributions\n",
    "using Plots"
   ]
  },
  {
   "cell_type": "markdown",
   "metadata": {},
   "source": [
    "### Function Definitions"
   ]
  },
  {
   "cell_type": "code",
   "execution_count": null,
   "metadata": {},
   "outputs": [],
   "source": [
    "function Gini(A::Vector)::Float64\n",
    "    gi=0.\n",
    "    for i=1:length(A)\n",
    "        for j=i+1:length(A)\n",
    "            gi+=abs(A[i]-A[j])\n",
    "        end\n",
    "    end\n",
    "    g=gi/(length(A)*sum(A))\n",
    "    return g\n",
    "end"
   ]
  },
  {
   "cell_type": "code",
   "execution_count": null,
   "metadata": {},
   "outputs": [],
   "source": [
    "function WealthTopXPerc(A::Vector,x::Float64)::Float64 \n",
    "    s=zeros(Int64,length(A))\n",
    "    s=sort(A)\n",
    "    indmin=Int(round(x*length(A)))\n",
    "    w=0\n",
    "    for i=length(A)-indmin:length(A)\n",
    "        w+=s[i]\n",
    "    end\n",
    "    wf=w*100.0/sum(A)   # in percent of total\n",
    "    return wf\n",
    "end"
   ]
  },
  {
   "cell_type": "code",
   "execution_count": null,
   "metadata": {},
   "outputs": [],
   "source": [
    "function VectorToDistr(A::Vector,k::Int)::Vector\n",
    "    d=zeros(Int64,k)\n",
    "    b=maximum(A)\n",
    "    for i=1:length(A)\n",
    "        for j=1:k\n",
    "            if (A[i] >= (j-1)*b/k)\n",
    "               if (A[i] <= j*b/k) \n",
    "                  d[j]=d[j]+1\n",
    "               end\n",
    "            end\n",
    "        end\n",
    "    end\n",
    "    return d\n",
    "end"
   ]
  },
  {
   "cell_type": "code",
   "execution_count": null,
   "metadata": {},
   "outputs": [],
   "source": [
    "function AgentsInteractAmount(A::Vector)\n",
    "    x=rand(big.(1:length(A)),2)\n",
    "    if (A[x[1]] > A[x[2]])\n",
    "        diff=A[x[2]]\n",
    "    else\n",
    "        diff=A[x[1]]\n",
    "    end\n",
    "#    print(\"\\n\",diff)\n",
    "    y=rand(2)\n",
    "    if (y[1] < .5) \n",
    "        A[x[1]]+=Int(round(y[2]*diff))\n",
    "        A[x[2]]-=Int(round(y[2]*diff))\n",
    "    else\n",
    "        A[x[1]]-=Int(round(y[2]*diff))\n",
    "        A[x[2]]+=Int(round(y[2]*diff))\n",
    "   end\n",
    "end"
   ]
  },
  {
   "cell_type": "markdown",
   "metadata": {},
   "source": [
    "This next function was erroneously thought to be an income tax. It is a wealth tax and will be studied in another notebook. So I'll remove it here."
   ]
  },
  {
   "cell_type": "code",
   "execution_count": null,
   "metadata": {},
   "outputs": [],
   "source": [
    "function TaxRate(A,B::Vector)::Vector\n",
    "    R=zeros(Float64,length(A))\n",
    "    for i=1:length(A)\n",
    "        R[i]=(B[i]-A[i])/B[i]\n",
    "    end\n",
    "    return R\n",
    "end"
   ]
  },
  {
   "cell_type": "markdown",
   "metadata": {},
   "source": [
    "Here is an income tax which is distributed to the best of possibility back to all agents. It is currently a flat tax of a certain percentage. Losses are not allowed to be taken into account."
   ]
  },
  {
   "cell_type": "code",
   "execution_count": null,
   "metadata": {},
   "outputs": [],
   "source": [
    "function TaxAgentsIncome(A::Vector,B::Vector,tax::Float64)\n",
    "    sv=sum(A)\n",
    "    for i=1:length(A)\n",
    "        earn=A[i]-B[i]\n",
    "        t=0\n",
    "        if (earn > 0)\n",
    "            t=Int(round(earn*tax))   # Only positive income is taxed\n",
    "        else\n",
    "            t=0\n",
    "        end\n",
    "        A[i]-=t   \n",
    "    end\n",
    "    sn=sum(A)\n",
    "    total=sv-sn\n",
    "#    print(\"\\n sv \",sv,\" sn \",sn,\" total \",total,\" to distr to each\", floor(total/length(A)))\n",
    "#    print(\"\\n real vs int values \", total/length(A),\" \",Int(round(total/length(A))))\n",
    "    zuf=rand(length(A))\n",
    "    for i=1:length(A)\n",
    "        A[i]+=Int(floor(total/length(A)))\n",
    "        if (zuf[i] < (total/length(A)-floor(total/length(A))))\n",
    "            A[i]+=1\n",
    "        end\n",
    "    end\n",
    "end"
   ]
  },
  {
   "cell_type": "markdown",
   "metadata": {},
   "source": [
    "## Progressive Income Tax"
   ]
  },
  {
   "cell_type": "markdown",
   "metadata": {},
   "source": [
    "In this simulation, we go back to the earlier model of taxing only positive earnings, but with a progressive tax. We start with a tax-free zone of 15% of original amount of wealth, then move to increasing tax rate from 15% to 45% of income for higher incomes, in a linear fashion. This is not realistic to what governments do, but simpler to implement. "
   ]
  },
  {
   "cell_type": "markdown",
   "metadata": {},
   "source": [
    "Additional parameters: Tax-free base value: 15% (ie at 150 dollars), maximum tax of 45% assumed at earnings of 85% of original amount of wealth (ie at 850 dollars). "
   ]
  },
  {
   "cell_type": "code",
   "execution_count": null,
   "metadata": {},
   "outputs": [],
   "source": [
    "function TaxAgentsIncome_Progressive(A::Vector,B::Vector,tax_onset,tax_target::Int64,tax_min,tax_max::Float64)\n",
    "    sv=sum(A)\n",
    "    for i=1:length(A)\n",
    "        earn=A[i]-B[i]\n",
    "        t=0\n",
    "        if (earn > tax_onset)\n",
    "            g=(earn-tax_onset)/(tax_target-tax_onset)\n",
    "            if (g < 1)\n",
    "               tax=tax_min+(tax_max-tax_min)*g\n",
    "            else\n",
    "                tax=tax_max\n",
    "            end\n",
    "            t=Int(round((earn-tax_onset)*tax))   # Only positive income is taxed\n",
    "#            print(\"\\n earn,g,tax,t \",earn,\"  \",g,\"  \",tax,\"  \",t)\n",
    "        else\n",
    "            t=0\n",
    "        end\n",
    "        A[i]-=t   \n",
    "    end\n",
    "    sn=sum(A)\n",
    "    total=sv-sn\n",
    "#    print(\"\\n sv \",sv,\" sn \",sn,\" total \",total,\" to distr to each\", floor(total/length(A)))\n",
    "#    print(\"\\n real vs int values \", total/length(A),\" \",Int(round(total/length(A))))\n",
    "    zuf=rand(length(A))\n",
    "    for i=1:length(A)\n",
    "        A[i]+=Int(floor(total/length(A)))\n",
    "        if (zuf[i] < (total/length(A)-floor(total/length(A))))\n",
    "            A[i]+=1\n",
    "        end\n",
    "    end\n",
    "end"
   ]
  },
  {
   "cell_type": "code",
   "execution_count": null,
   "metadata": {},
   "outputs": [],
   "source": [
    "using Random \n",
    "Random.seed!(1);\n",
    "N=1000  # Number of Agents\n",
    "W=1000   # Starting share of wealth for all\n",
    "T=100000  # Number of iterations\n",
    "K=10  # Number of bins for the wealth distribution\n",
    "tax=0.05   # Irrelevant parameter\n",
    "taxperiod=10   # Every taxperiod iterations, taxes are due and redistributed\n",
    "R=[0,1,10,100,1000,10000,100000]    # Reporting times T=...\n",
    "#R_D=zeros(Int64,6,K)\n",
    "b=W/K\n",
    "print(\"Number of bins for distribution: \",K,\" bin size \",b)\n",
    "A = fill(W,N);\n",
    "B = fill(W,N);\n",
    "O = fill(0,T);\n",
    "M = fill(0.0,T);\n",
    "I = fill(0,T);\n",
    "wealth = fill(0.0,T,3)\n",
    "D = fill(0,K);\n",
    "g = fill(0.0,T,3);\n",
    "D=VectorToDistr(A,K);\n",
    "tax_onset=150\n",
    "tax_target=850\n",
    "tax_min=0.15\n",
    "tax_max=0.45"
   ]
  },
  {
   "cell_type": "code",
   "execution_count": null,
   "metadata": {},
   "outputs": [],
   "source": [
    "ic=1\n",
    "D_label=\"T=\" * string(R[ic])\n",
    "display(bar(D, func=cdf, alpha=0.3, legend=:topleft, label = D_label, xticks=0:1000))\n",
    "#\n",
    "ic=2    # This is the first report after the initial distribution\n",
    "Om=0\n",
    "for i=1:T\n",
    "    AgentsInteractAmount(A)\n",
    "    I[i]=i\n",
    "    if (Om < maximum(A)) ## Modified to maximum across all iterations so far\n",
    "        O[i]=maximum(A)\n",
    "        Om=maximum(A)\n",
    "    else\n",
    "        O[i]=O[i-1]\n",
    "    end\n",
    "    M[i]=median(A)\n",
    "    wealth[i,1]=100.0-WealthTopXPerc(A,.5)\n",
    "    wealth[i,2]=WealthTopXPerc(A,.1)\n",
    "    wealth[i,3]=WealthTopXPerc(A,.01)    \n",
    "    if (mod(i,taxperiod) == 0)\n",
    "        TaxAgentsIncome_Progressive(A,B,tax_onset,tax_target,tax_min,tax_max)\n",
    "        for j=1:length(A)\n",
    "            B[j]=A[j]\n",
    "        end\n",
    "    end\n",
    "    g[i,1]=Gini(A)\n",
    "    if (i == R[ic])\n",
    "       D=VectorToDistr(A,K)\n",
    "#       print(\"\\n D: \",D,\" Iteration \",i)\n",
    "       D_label=\"T=\" * string(R[ic]) * \"   Progressive Income Tax\"\n",
    "       if (i > 1000)\n",
    "          display(bar(D, func=cdf, alpha=0.3, legend=:topright, label = D_label, xticks=0:1000))\n",
    "       else\n",
    "           display(bar(D, func=cdf, alpha=0.3, legend=:topleft, label = D_label, xticks=0:1000))\n",
    "       end           \n",
    "       ic+=1\n",
    "    end\n",
    "end\n",
    "print(\"\\n Minimum \", minimum(A), \"\\n Maximum \", maximum(A), \"\\n Sum \", \n",
    "    sum(A))\n",
    "plot(I,O,legend=:topleft,label = [\"Max Wealth\"])\n",
    "display(plot!(I,M,legend=:topleft,label = [\"Median Wealth\"]))\n",
    "display(plot(I,wealth,legend=:topright,xlabel=\"Iterations t\", ylabel=\"Share of Wealth in %\",label = [\"Wealth Bottom 50%\" \"Wealth Top 10%\" \"Wealth Top 1%\"]))"
   ]
  },
  {
   "cell_type": "markdown",
   "metadata": {},
   "source": [
    "This seems pretty close to the effects of the earlier 30 % flat tax. Now we have to increase the marginal tax rate to 60% and to 75%, keeping in mind the principle that we want to apply the tax in a linearly increasing fashion. That means, that the effects need to be linearly extended, and the max tax rate will be at 1,200 and 1,550 dollars."
   ]
  },
  {
   "cell_type": "markdown",
   "metadata": {},
   "source": [
    "First 60%"
   ]
  },
  {
   "cell_type": "code",
   "execution_count": null,
   "metadata": {},
   "outputs": [],
   "source": [
    "using Random \n",
    "Random.seed!(1);\n",
    "N=1000  # Number of Agents\n",
    "W=1000   # Starting share of wealth for all\n",
    "T=100000  # Number of iterations\n",
    "K=10  # Number of bins for the wealth distribution\n",
    "tax=0.05   # Irrelevant parameter\n",
    "taxperiod=10   # Every taxperiod iterations, taxes are due and redistributed\n",
    "R=[0,1,10,100,1000,10000,100000]    # Reporting times T=...\n",
    "#R_D=zeros(Int64,6,K)\n",
    "b=W/K\n",
    "print(\"Number of bins for distribution: \",K,\" bin size \",b)\n",
    "A = fill(W,N);\n",
    "B = fill(W,N);\n",
    "O = fill(0,T);\n",
    "M = fill(0.0,T);\n",
    "I = fill(0,T);\n",
    "wealth = fill(0.0,T,3)\n",
    "D = fill(0,K);\n",
    "D=VectorToDistr(A,K);\n",
    "tax_onset=150\n",
    "tax_target=1200\n",
    "tax_min=0.15\n",
    "tax_max=0.60"
   ]
  },
  {
   "cell_type": "code",
   "execution_count": null,
   "metadata": {},
   "outputs": [],
   "source": [
    "ic=1\n",
    "D_label=\"T=\" * string(R[ic])\n",
    "display(bar(D, func=cdf, alpha=0.3, legend=:topleft, label = D_label, xticks=0:1000))\n",
    "#\n",
    "ic=2    # This is the first report after the initial distribution\n",
    "Om=0\n",
    "for i=1:T\n",
    "    AgentsInteractAmount(A)\n",
    "    I[i]=i\n",
    "    if (Om < maximum(A)) ## Modified to maximum across all iterations so far\n",
    "        O[i]=maximum(A)\n",
    "        Om=maximum(A)\n",
    "    else\n",
    "        O[i]=O[i-1]\n",
    "    end\n",
    "    M[i]=median(A)\n",
    "    wealth[i,1]=100.0-WealthTopXPerc(A,.5)\n",
    "    wealth[i,2]=WealthTopXPerc(A,.1)\n",
    "    wealth[i,3]=WealthTopXPerc(A,.01)    \n",
    "    if (mod(i,taxperiod) == 0)\n",
    "        TaxAgentsIncome_Progressive(A,B,tax_onset,tax_target,tax_min,tax_max)\n",
    "        for j=1:length(A)\n",
    "            B[j]=A[j]\n",
    "        end\n",
    "    end\n",
    "    g[i,2]=Gini(A)\n",
    "    if (i == R[ic])\n",
    "       D=VectorToDistr(A,K)\n",
    "#       print(\"\\n D: \",D,\" Iteration \",i)\n",
    "       D_label=\"T=\" * string(R[ic]) * \"   Progressive Income Tax\"\n",
    "       if (i > 1000)\n",
    "          display(bar(D, func=cdf, alpha=0.3, legend=:topright, label = D_label, xticks=0:1000))\n",
    "       else\n",
    "           display(bar(D, func=cdf, alpha=0.3, legend=:topleft, label = D_label, xticks=0:1000))\n",
    "       end           \n",
    "       ic+=1\n",
    "    end\n",
    "end\n",
    "print(\"\\n Minimum \", minimum(A), \"\\n Maximum \", maximum(A), \"\\n Sum \", \n",
    "    sum(A))\n",
    "plot(I,O,legend=:topleft,label = [\"Max Wealth\"])\n",
    "display(plot!(I,M,legend=:topleft,label = [\"Median Wealth\"]))\n",
    "display(plot(I,wealth,legend=:topright,xlabel=\"Iterations t\", ylabel=\"Share of Wealth in %\",label = [\"Wealth Bottom 50%\" \"Wealth Top 10%\" \"Wealth Top 1%\"]))"
   ]
  },
  {
   "cell_type": "markdown",
   "metadata": {},
   "source": [
    "Now 75%"
   ]
  },
  {
   "cell_type": "code",
   "execution_count": null,
   "metadata": {},
   "outputs": [],
   "source": [
    "using Random \n",
    "Random.seed!(1);\n",
    "N=1000  # Number of Agents\n",
    "W=1000   # Starting share of wealth for all\n",
    "T=100000  # Number of iterations\n",
    "K=10  # Number of bins for the wealth distribution\n",
    "tax=0.05   # Irrelevant parameter\n",
    "taxperiod=10   # Every taxperiod iterations, taxes are due and redistributed\n",
    "R=[0,1,10,100,1000,10000,100000]    # Reporting times T=...\n",
    "#R_D=zeros(Int64,6,K)\n",
    "b=W/K\n",
    "print(\"Number of bins for distribution: \",K,\" bin size \",b)\n",
    "A = fill(W,N);\n",
    "B = fill(W,N);\n",
    "O = fill(0,T);\n",
    "M = fill(0.0,T);\n",
    "I = fill(0,T);\n",
    "wealth = fill(0.0,T,3)\n",
    "D = fill(0,K);\n",
    "D=VectorToDistr(A,K);\n",
    "tax_onset=150\n",
    "tax_target=1500\n",
    "tax_min=0.15\n",
    "tax_max=0.75"
   ]
  },
  {
   "cell_type": "code",
   "execution_count": null,
   "metadata": {},
   "outputs": [],
   "source": [
    "ic=1\n",
    "D_label=\"T=\" * string(R[ic])\n",
    "display(bar(D, func=cdf, alpha=0.3, legend=:topleft, label = D_label, xticks=0:1000))\n",
    "#\n",
    "ic=2    # This is the first report after the initial distribution\n",
    "Om=0\n",
    "for i=1:T\n",
    "    AgentsInteractAmount(A)\n",
    "    I[i]=i\n",
    "    if (Om < maximum(A)) ## Modified to maximum across all iterations so far\n",
    "        O[i]=maximum(A)\n",
    "        Om=maximum(A)\n",
    "    else\n",
    "        O[i]=O[i-1]\n",
    "    end\n",
    "    M[i]=median(A)\n",
    "    wealth[i,1]=100.0-WealthTopXPerc(A,.5)\n",
    "    wealth[i,2]=WealthTopXPerc(A,.1)\n",
    "    wealth[i,3]=WealthTopXPerc(A,.01)    \n",
    "    if (mod(i,taxperiod) == 0)\n",
    "        TaxAgentsIncome_Progressive(A,B,tax_onset,tax_target,tax_min,tax_max)\n",
    "        for j=1:length(A)\n",
    "            B[j]=A[j]\n",
    "        end\n",
    "    end\n",
    "    g[i,3]=Gini(A)\n",
    "    if (i == R[ic])\n",
    "       D=VectorToDistr(A,K)\n",
    "#       print(\"\\n D: \",D,\" Iteration \",i)\n",
    "       D_label=\"T=\" * string(R[ic]) * \"   Progressive Income Tax\"\n",
    "       if (i > 1000)\n",
    "          display(bar(D, func=cdf, alpha=0.3, legend=:topright, label = D_label, xticks=0:1000))\n",
    "       else\n",
    "           display(bar(D, func=cdf, alpha=0.3, legend=:topleft, label = D_label, xticks=0:1000))\n",
    "       end           \n",
    "       ic+=1\n",
    "    end\n",
    "end\n",
    "print(\"\\n Minimum \", minimum(A), \"\\n Maximum \", maximum(A), \"\\n Sum \", \n",
    "    sum(A))\n",
    "plot(I,O,legend=:topleft,label = [\"Max Wealth\"])\n",
    "display(plot!(I,M,legend=:topleft,label = [\"Median Wealth\"]))\n",
    "display(plot(I,wealth,legend=:topright,xlabel=\"Iterations t\", ylabel=\"Share of Wealth in %\",label = [\"Wealth Bottom 50%\" \"Wealth Top 10%\" \"Wealth Top 1%\"]))"
   ]
  },
  {
   "cell_type": "code",
   "execution_count": null,
   "metadata": {},
   "outputs": [],
   "source": [
    "display(plot(I,g,legend=:bottomright, xlabel = \"Iterations t\", ylabel=\"Gini\", label = [\"Gini Coefficient 45% max. Progressive Income Tax\" \"Gini Coefficient 60% max. Progressive Income Tax\" \"Gini Coefficient 75% max. Progressive Income Tax\"]))"
   ]
  }
 ],
 "metadata": {
  "kernelspec": {
   "display_name": "Julia 1.2.0",
   "language": "julia",
   "name": "julia-1.2"
  },
  "language_info": {
   "file_extension": ".jl",
   "mimetype": "application/julia",
   "name": "julia",
   "version": "1.2.0"
  }
 },
 "nbformat": 4,
 "nbformat_minor": 4
}
